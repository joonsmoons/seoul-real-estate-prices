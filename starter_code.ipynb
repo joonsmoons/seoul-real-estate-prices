{
 "cells": [
  {
   "cell_type": "code",
   "execution_count": 1,
   "id": "6c4f4c5e-f71b-497c-aad8-118b684c0b9c",
   "metadata": {
    "tags": []
   },
   "outputs": [],
   "source": [
    "\n"
   ]
  },
  {
   "cell_type": "code",
   "execution_count": 29,
   "id": "4e0812ee-3397-4eb5-9319-a6bd459648bb",
   "metadata": {
    "tags": []
   },
   "outputs": [
    {
     "name": "stdout",
     "output_type": "stream",
     "text": [
      "   RCPT_YR CGG_CD CGG_NM STDG_CD STDG_NM LOTNO_SE LOTNO_SE_NM   MNO   SNO  \\\n",
      "0     2018  11500    강서구   10300     화곡동        1          대지  1159  0000   \n",
      "1     2018  11410   서대문구   11200     대현동        1          대지  0144  0000   \n",
      "2     2018  11590    동작구   10700     사당동        1          대지  0169  0032   \n",
      "3     2018  11350    노원구   10500     상계동        1          대지  1380  0004   \n",
      "4     2018  11380    은평구   11000     증산동        1          대지  0189  0063   \n",
      "\n",
      "         BLDG_NM  ... THING_AMT  ARCH_AREA  LAND_AREA  FLR RGHT_SE RTRCN_DAY  \\\n",
      "0  우장산아이파크,이편한세상  ...     95000     101.65        NaN   10    <NA>      <NA>   \n",
      "1           럭키대현  ...     70000      83.38        NaN   10    <NA>      <NA>   \n",
      "2             현대  ...     49500      51.66        NaN   10    <NA>      <NA>   \n",
      "3           초산빌라  ...     16000      41.37      18.38    1    <NA>      <NA>   \n",
      "4   궁전맨션(189-63)  ...     43000      54.34      27.17    2    <NA>      <NA>   \n",
      "\n",
      "  ARCH_YR BLDG_USG DCLR_SE OPBIZ_RESTAGNT_SGG_NM  \n",
      "0    2008      아파트    <NA>                  <NA>  \n",
      "1    1999      아파트    <NA>                  <NA>  \n",
      "2    1991      아파트    <NA>                  <NA>  \n",
      "3    1996    연립다세대    <NA>                  <NA>  \n",
      "4    1992    연립다세대    <NA>                  <NA>  \n",
      "\n",
      "[5 rows x 21 columns]\n"
     ]
    }
   ],
   "source": [
    "import pandas as pd \n",
    "\n",
    "# 사용자 정의 컬럼 이름 설정\n",
    "column_names = [\n",
    "    'RCPT_YR', 'CGG_CD', 'CGG_NM', 'STDG_CD', 'STDG_NM', \n",
    "    'LOTNO_SE', 'LOTNO_SE_NM', 'MNO', 'SNO', 'BLDG_NM', \n",
    "    'CTRT_DAY', 'THING_AMT', 'ARCH_AREA', 'LAND_AREA', 'FLR', \n",
    "    'RGHT_SE', 'RTRCN_DAY', 'ARCH_YR', 'BLDG_USG', 'DCLR_SE', \n",
    "    'OPBIZ_RESTAGNT_SGG_NM'\n",
    "]\n",
    "\n",
    "# 컬럼별 데이터 타입 설정\n",
    "dtype_dict = {\n",
    "    'RCPT_YR': 'int64',\n",
    "    'CGG_CD': 'string',\n",
    "    'CGG_NM': 'string',\n",
    "    'STDG_CD': 'string',\n",
    "    'STDG_NM': 'string',\n",
    "    'LOTNO_SE': 'string',\n",
    "    'LOTNO_SE_NM': 'string',\n",
    "    'MNO': 'string',\n",
    "    'SNO': 'string',\n",
    "    'BLDG_NM': 'string',\n",
    "    'CTRT_DAY': 'string',\n",
    "    'THING_AMT': 'int64',\n",
    "    'ARCH_AREA': 'float64',\n",
    "    'LAND_AREA': 'float64',\n",
    "    'FLR': 'string', \n",
    "    'RGHT_SE': 'string',\n",
    "    'RTRCN_DAY': 'string', \n",
    "    'ARCH_YR': 'string', \n",
    "    'BLDG_USG': 'string',\n",
    "    'DCLR_SE': 'string',\n",
    "    'OPBIZ_RESTAGNT_SGG_NM': 'string'\n",
    "}\n",
    "\n",
    "# 사용자 정의 컬럼 이름과 데이터 타입을 사용하여 CSV 파일 불러오기\n",
    "df_2018 = pd.read_csv(\n",
    "    '2018.csv', \n",
    "    encoding='euc-kr',   # 인코딩을 euc-kr로 지정 (한글 데이터 처리)\n",
    "    names=column_names,  # 사용자 정의 컬럼 이름 지정\n",
    "    dtype=dtype_dict,    # 데이터 타입을 명시하여 정확한 데이터 로드\n",
    "    skiprows=1           # 첫 번째 행은 생략\n",
    ")\n",
    "\n",
    "# 데이터 확인\n",
    "print(df_2018.head())  # 상위 5개 행 출력"
   ]
  },
  {
   "cell_type": "code",
   "execution_count": null,
   "id": "648fe0aa-9562-4aa4-af29-0d5b6e4216df",
   "metadata": {},
   "outputs": [],
   "source": []
  }
 ],
 "metadata": {
  "kernelspec": {
   "display_name": "Python 3 (ipykernel)",
   "language": "python",
   "name": "python3"
  },
  "language_info": {
   "codemirror_mode": {
    "name": "ipython",
    "version": 3
   },
   "file_extension": ".py",
   "mimetype": "text/x-python",
   "name": "python",
   "nbconvert_exporter": "python",
   "pygments_lexer": "ipython3",
   "version": "3.11.5"
  }
 },
 "nbformat": 4,
 "nbformat_minor": 5
}
